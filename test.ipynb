{
 "cells": [
  {
   "metadata": {
    "ExecuteTime": {
     "end_time": "2025-02-23T20:53:26.949873Z",
     "start_time": "2025-02-23T20:53:26.915819Z"
    }
   },
   "cell_type": "code",
   "source": [
    "import sys\n",
    "import time\n",
    "import random\n",
    "\n",
    "import numpy as np\n",
    "import gym\n",
    "from gym_chess import ChessEnvV1\n",
    "import gym_chess\n",
    "import pandas as pd\n",
    "import numpy as np\n",
    "import torch\n",
    "from torch import nn"
   ],
   "id": "ca7d16f102b367f8",
   "outputs": [],
   "execution_count": 27
  },
  {
   "cell_type": "code",
   "id": "initial_id",
   "metadata": {
    "collapsed": true,
    "ExecuteTime": {
     "end_time": "2025-02-23T20:53:27.124629Z",
     "start_time": "2025-02-23T20:53:26.980516Z"
    }
   },
   "source": [
    "env = ChessEnvV1(player_color=\"BLACK\", opponent=\"none\", log=True, initial_state=np.array([\n",
    "    [-3,  0, -4,  0, -1,  0,  0, -3],\n",
    "    [-6, -6, -6, -6, -2, -6, -6, -6],\n",
    "    [ 0,  0,  6,  0,  0,  0,  0,  0],\n",
    "    [ 0,  0,  0,  0,  0,  0,  0,  0],\n",
    "    [ 0, -4,  0,  2, -5,  0,  0,  0],\n",
    "    [ 0,  0,  5,  0,  0,  0,  0,  0],\n",
    "    [ 6,  6,  6,  0,  0,  6,  6,  6],\n",
    "    [ 3,  0,  4,  0,  1,  4,  0,  3]\n",
    "]))\n",
    "#\n",
    "# Play against self\n",
    "#\n",
    "\n",
    "num_episodes = 2\n",
    "num_steps = 100\n",
    "\n",
    "total_steps = 0\n",
    "collected_rewards = []\n",
    "start = time.time()"
   ],
   "outputs": [],
   "execution_count": 28
  },
  {
   "metadata": {
    "ExecuteTime": {
     "end_time": "2025-02-23T20:53:27.219410Z",
     "start_time": "2025-02-23T20:53:27.184816Z"
    }
   },
   "cell_type": "code",
   "source": "display(env.possible_moves)",
   "id": "2e6533a5d08c03c2",
   "outputs": [
    {
     "data": {
      "text/plain": [
       "[[array([0, 0], dtype=int8), array([0, 1], dtype=int8)],\n",
       " [array([0, 4], dtype=int8), array([0, 5], dtype=int8)],\n",
       " [array([0, 4], dtype=int8), array([0, 3], dtype=int8)],\n",
       " [array([0, 7], dtype=int8), array([0, 6], dtype=int8)],\n",
       " [array([0, 7], dtype=int8), array([0, 5], dtype=int8)],\n",
       " [array([1, 0], dtype=int8), array([2, 0], dtype=int8)],\n",
       " [array([1, 0], dtype=int8), array([3, 0], dtype=int8)],\n",
       " [array([1, 1], dtype=int8), array([2, 1], dtype=int8)],\n",
       " [array([1, 1], dtype=int8), array([3, 1], dtype=int8)],\n",
       " [array([1, 1], dtype=int8), array([2, 2], dtype=int8)],\n",
       " [array([1, 2], dtype=int8), array([3, 2], dtype=int8)],\n",
       " [array([1, 3], dtype=int8), array([2, 3], dtype=int8)],\n",
       " [array([1, 3], dtype=int8), array([3, 3], dtype=int8)],\n",
       " [array([1, 3], dtype=int8), array([2, 2], dtype=int8)],\n",
       " [array([1, 4], dtype=int8), array([2, 4], dtype=int8)],\n",
       " [array([1, 4], dtype=int8), array([3, 4], dtype=int8)],\n",
       " [array([1, 4], dtype=int8), array([0, 3], dtype=int8)],\n",
       " [array([1, 4], dtype=int8), array([0, 5], dtype=int8)],\n",
       " [array([1, 4], dtype=int8), array([2, 3], dtype=int8)],\n",
       " [array([1, 4], dtype=int8), array([3, 2], dtype=int8)],\n",
       " [array([1, 4], dtype=int8), array([2, 5], dtype=int8)],\n",
       " [array([1, 4], dtype=int8), array([3, 6], dtype=int8)],\n",
       " [array([1, 4], dtype=int8), array([4, 7], dtype=int8)],\n",
       " [array([1, 5], dtype=int8), array([2, 5], dtype=int8)],\n",
       " [array([1, 5], dtype=int8), array([3, 5], dtype=int8)],\n",
       " [array([1, 6], dtype=int8), array([2, 6], dtype=int8)],\n",
       " [array([1, 6], dtype=int8), array([3, 6], dtype=int8)],\n",
       " [array([1, 7], dtype=int8), array([2, 7], dtype=int8)],\n",
       " [array([1, 7], dtype=int8), array([3, 7], dtype=int8)],\n",
       " [array([4, 1], dtype=int8), array([3, 0], dtype=int8)],\n",
       " [array([4, 1], dtype=int8), array([3, 2], dtype=int8)],\n",
       " [array([4, 1], dtype=int8), array([2, 3], dtype=int8)],\n",
       " [array([4, 1], dtype=int8), array([5, 0], dtype=int8)],\n",
       " [array([4, 1], dtype=int8), array([5, 2], dtype=int8)],\n",
       " [array([4, 4], dtype=int8), array([2, 3], dtype=int8)],\n",
       " [array([4, 4], dtype=int8), array([2, 5], dtype=int8)],\n",
       " [array([4, 4], dtype=int8), array([6, 3], dtype=int8)],\n",
       " [array([4, 4], dtype=int8), array([6, 5], dtype=int8)],\n",
       " [array([4, 4], dtype=int8), array([3, 2], dtype=int8)],\n",
       " [array([4, 4], dtype=int8), array([3, 6], dtype=int8)],\n",
       " [array([4, 4], dtype=int8), array([5, 2], dtype=int8)],\n",
       " [array([4, 4], dtype=int8), array([5, 6], dtype=int8)],\n",
       " 'CASTLE_KING_SIDE_BLACK']"
      ]
     },
     "metadata": {},
     "output_type": "display_data"
    }
   ],
   "execution_count": 29
  },
  {
   "metadata": {
    "ExecuteTime": {
     "end_time": "2025-02-23T21:06:24.660809Z",
     "start_time": "2025-02-23T21:06:24.629970Z"
    }
   },
   "cell_type": "code",
   "source": [
    "move_pgn = \"Bxc3+\"\n",
    "move_pgn = move_pgn[:-1]"
   ],
   "id": "cb6bb5b97bde9490",
   "outputs": [],
   "execution_count": 39
  },
  {
   "metadata": {
    "ExecuteTime": {
     "end_time": "2025-02-23T21:06:27.200458Z",
     "start_time": "2025-02-23T21:06:27.165558Z"
    }
   },
   "cell_type": "code",
   "source": "move_pgn",
   "id": "25c923ad599112d5",
   "outputs": [
    {
     "data": {
      "text/plain": [
       "'Bxc3'"
      ]
     },
     "execution_count": 40,
     "metadata": {},
     "output_type": "execute_result"
    }
   ],
   "execution_count": 40
  },
  {
   "metadata": {
    "ExecuteTime": {
     "end_time": "2025-02-23T20:53:27.522351Z",
     "start_time": "2025-02-23T20:53:27.515543Z"
    }
   },
   "cell_type": "code",
   "source": "env.render()",
   "id": "87ce462a3f3ec772",
   "outputs": [
    {
     "name": "stdout",
     "output_type": "stream",
     "text": [
      "    -------------------------\n",
      " 8 |  ♖  .  ♗  .  ♔  .  .  ♖ |\n",
      " 7 |  ♙  ♙  ♙  ♙  ♕  ♙  ♙  ♙ |\n",
      " 6 |  .  .  ♟  .  .  .  .  . |\n",
      " 5 |  .  .  .  .  .  .  .  . |\n",
      " 4 |  .  ♗  .  ♛  ♘  .  .  . |\n",
      " 3 |  .  .  ♞  .  .  .  .  . |\n",
      " 2 |  ♟  ♟  ♟  .  .  ♟  ♟  ♟ |\n",
      " 1 |  ♜  .  ♝  .  ♚  ♝  .  ♜ |\n",
      "    -------------------------\n",
      "      a  b  c  d  e  f  g  h \n"
     ]
    }
   ],
   "execution_count": 30
  },
  {
   "metadata": {
    "ExecuteTime": {
     "end_time": "2025-02-23T20:53:27.627298Z",
     "start_time": "2025-02-23T20:53:27.617648Z"
    }
   },
   "cell_type": "code",
   "source": "display(env.state)",
   "id": "e3bfb1da9175f86c",
   "outputs": [
    {
     "data": {
      "text/plain": [
       "array([[-3,  0, -4,  0, -1,  0,  0, -3],\n",
       "       [-6, -6, -6, -6, -2, -6, -6, -6],\n",
       "       [ 0,  0,  6,  0,  0,  0,  0,  0],\n",
       "       [ 0,  0,  0,  0,  0,  0,  0,  0],\n",
       "       [ 0, -4,  0,  2, -5,  0,  0,  0],\n",
       "       [ 0,  0,  5,  0,  0,  0,  0,  0],\n",
       "       [ 6,  6,  6,  0,  0,  6,  6,  6],\n",
       "       [ 3,  0,  4,  0,  1,  4,  0,  3]])"
      ]
     },
     "metadata": {},
     "output_type": "display_data"
    }
   ],
   "execution_count": 31
  },
  {
   "metadata": {
    "ExecuteTime": {
     "end_time": "2025-02-23T20:53:27.727887Z",
     "start_time": "2025-02-23T20:53:27.672541Z"
    }
   },
   "cell_type": "code",
   "source": [
    "m = env.possible_moves[-1]\n",
    "a = env.move_to_action(m)\n",
    "state, reward, done, _ = env.step(a)"
   ],
   "id": "9b2c438c57d0f086",
   "outputs": [
    {
     "name": "stdout",
     "output_type": "stream",
     "text": [
      "           >>>>>>>>>> BLACK\n",
      "    -------------------------\n",
      " 8 |  ♖  .  ♗  . \u001B[47m\u001B[30m ♔ \u001B[0m\u001B[0m\u001B[42m\u001B[30m >>\u001B[0m\u001B[0m\u001B[42m\u001B[30m<< \u001B[0m\u001B[0m\u001B[47m\u001B[30m ♖ \u001B[0m\u001B[0m|\n",
      " 7 |  ♙  ♙  ♙  ♙  ♕  ♙  ♙  ♙ |\n",
      " 6 |  .  .  ♟  .  .  .  .  . |\n",
      " 5 |  .  .  .  .  .  .  .  . |\n",
      " 4 |  .  ♗  .  ♛  ♘  .  .  . |\n",
      " 3 |  .  .  ♞  .  .  .  .  . |\n",
      " 2 |  ♟  ♟  ♟  .  .  ♟  ♟  ♟ |\n",
      " 1 |  ♜  .  ♝  .  ♚  ♝  .  ♜ |\n",
      "    -------------------------\n",
      "      a  b  c  d  e  f  g  h \n"
     ]
    }
   ],
   "execution_count": 32
  },
  {
   "metadata": {
    "ExecuteTime": {
     "end_time": "2025-02-23T20:53:27.753097Z",
     "start_time": "2025-02-23T20:53:27.744262Z"
    }
   },
   "cell_type": "code",
   "source": "display(env.state)",
   "id": "d11139e3c361cb55",
   "outputs": [
    {
     "data": {
      "text/plain": [
       "array([[-3,  0, -4,  0,  0, -3, -1,  0],\n",
       "       [-6, -6, -6, -6, -2, -6, -6, -6],\n",
       "       [ 0,  0,  6,  0,  0,  0,  0,  0],\n",
       "       [ 0,  0,  0,  0,  0,  0,  0,  0],\n",
       "       [ 0, -4,  0,  2, -5,  0,  0,  0],\n",
       "       [ 0,  0,  5,  0,  0,  0,  0,  0],\n",
       "       [ 6,  6,  6,  0,  0,  6,  6,  6],\n",
       "       [ 3,  0,  4,  0,  1,  4,  0,  3]])"
      ]
     },
     "metadata": {},
     "output_type": "display_data"
    }
   ],
   "execution_count": 33
  },
  {
   "metadata": {
    "ExecuteTime": {
     "end_time": "2025-02-23T20:53:28.022796Z",
     "start_time": "2025-02-23T20:53:27.819160Z"
    }
   },
   "cell_type": "code",
   "source": "display(env.get_possible_moves())",
   "id": "cf818cc4a9f0e98",
   "outputs": [
    {
     "data": {
      "text/plain": [
       "[[array([2, 2], dtype=int8), array([1, 3], dtype=int8)],\n",
       " [array([2, 2], dtype=int8), array([1, 1], dtype=int8)],\n",
       " [array([4, 3], dtype=int8), array([3, 3], dtype=int8)],\n",
       " [array([4, 3], dtype=int8), array([2, 3], dtype=int8)],\n",
       " [array([4, 3], dtype=int8), array([1, 3], dtype=int8)],\n",
       " [array([4, 3], dtype=int8), array([5, 3], dtype=int8)],\n",
       " [array([4, 3], dtype=int8), array([6, 3], dtype=int8)],\n",
       " [array([4, 3], dtype=int8), array([7, 3], dtype=int8)],\n",
       " [array([4, 3], dtype=int8), array([4, 2], dtype=int8)],\n",
       " [array([4, 3], dtype=int8), array([4, 1], dtype=int8)],\n",
       " [array([4, 3], dtype=int8), array([4, 4], dtype=int8)],\n",
       " [array([4, 3], dtype=int8), array([3, 2], dtype=int8)],\n",
       " [array([4, 3], dtype=int8), array([2, 1], dtype=int8)],\n",
       " [array([4, 3], dtype=int8), array([1, 0], dtype=int8)],\n",
       " [array([4, 3], dtype=int8), array([3, 4], dtype=int8)],\n",
       " [array([4, 3], dtype=int8), array([2, 5], dtype=int8)],\n",
       " [array([4, 3], dtype=int8), array([1, 6], dtype=int8)],\n",
       " [array([4, 3], dtype=int8), array([5, 4], dtype=int8)],\n",
       " [array([6, 0], dtype=int8), array([5, 0], dtype=int8)],\n",
       " [array([6, 0], dtype=int8), array([4, 0], dtype=int8)],\n",
       " [array([6, 1], dtype=int8), array([5, 1], dtype=int8)],\n",
       " [array([6, 2], dtype=int8), array([4, 2], dtype=int8)],\n",
       " [array([6, 5], dtype=int8), array([5, 5], dtype=int8)],\n",
       " [array([6, 5], dtype=int8), array([4, 5], dtype=int8)],\n",
       " [array([6, 6], dtype=int8), array([5, 6], dtype=int8)],\n",
       " [array([6, 6], dtype=int8), array([4, 6], dtype=int8)],\n",
       " [array([6, 7], dtype=int8), array([5, 7], dtype=int8)],\n",
       " [array([6, 7], dtype=int8), array([4, 7], dtype=int8)],\n",
       " [array([7, 0], dtype=int8), array([7, 1], dtype=int8)],\n",
       " [array([7, 2], dtype=int8), array([6, 3], dtype=int8)],\n",
       " [array([7, 2], dtype=int8), array([5, 4], dtype=int8)],\n",
       " [array([7, 2], dtype=int8), array([4, 5], dtype=int8)],\n",
       " [array([7, 2], dtype=int8), array([3, 6], dtype=int8)],\n",
       " [array([7, 2], dtype=int8), array([2, 7], dtype=int8)],\n",
       " [array([7, 4], dtype=int8), array([6, 4], dtype=int8)],\n",
       " [array([7, 4], dtype=int8), array([7, 3], dtype=int8)],\n",
       " [array([7, 5], dtype=int8), array([6, 4], dtype=int8)],\n",
       " [array([7, 5], dtype=int8), array([5, 3], dtype=int8)],\n",
       " [array([7, 5], dtype=int8), array([4, 2], dtype=int8)],\n",
       " [array([7, 5], dtype=int8), array([3, 1], dtype=int8)],\n",
       " [array([7, 5], dtype=int8), array([2, 0], dtype=int8)],\n",
       " [array([7, 7], dtype=int8), array([7, 6], dtype=int8)]]"
      ]
     },
     "metadata": {},
     "output_type": "display_data"
    }
   ],
   "execution_count": 34
  },
  {
   "metadata": {
    "ExecuteTime": {
     "end_time": "2025-02-23T20:53:28.133984Z",
     "start_time": "2025-02-23T20:53:28.128813Z"
    }
   },
   "cell_type": "code",
   "source": "print(env.black_king_castle_possible)",
   "id": "7b6df7c18fe779f1",
   "outputs": [
    {
     "name": "stdout",
     "output_type": "stream",
     "text": [
      "False\n"
     ]
    }
   ],
   "execution_count": 35
  },
  {
   "metadata": {
    "ExecuteTime": {
     "end_time": "2025-02-23T20:53:28.200730Z",
     "start_time": "2025-02-23T20:53:28.192889Z"
    }
   },
   "cell_type": "code",
   "source": "env.player = \"BLACK\"",
   "id": "2883900922edb5ec",
   "outputs": [],
   "execution_count": 36
  },
  {
   "metadata": {
    "ExecuteTime": {
     "end_time": "2025-02-23T20:53:28.235777Z",
     "start_time": "2025-02-23T20:53:28.231942Z"
    }
   },
   "cell_type": "code",
   "source": "print(env.player)",
   "id": "73cfd1f62c5e9bdf",
   "outputs": [
    {
     "name": "stdout",
     "output_type": "stream",
     "text": [
      "BLACK\n"
     ]
    }
   ],
   "execution_count": 37
  },
  {
   "metadata": {
    "ExecuteTime": {
     "end_time": "2025-02-23T20:53:28.248479Z",
     "start_time": "2025-02-23T20:53:28.246529Z"
    }
   },
   "cell_type": "code",
   "source": "",
   "id": "a1faf909905e5b07",
   "outputs": [],
   "execution_count": null
  },
  {
   "metadata": {
    "ExecuteTime": {
     "end_time": "2025-02-23T20:53:28.296925Z",
     "start_time": "2025-02-23T20:53:28.263950Z"
    }
   },
   "cell_type": "code",
   "source": "display(env.get_possible_moves())",
   "id": "d1cd367a0b20e711",
   "outputs": [
    {
     "data": {
      "text/plain": [
       "[[array([2, 2], dtype=int8), array([1, 3], dtype=int8)],\n",
       " [array([2, 2], dtype=int8), array([1, 1], dtype=int8)],\n",
       " [array([4, 3], dtype=int8), array([3, 3], dtype=int8)],\n",
       " [array([4, 3], dtype=int8), array([2, 3], dtype=int8)],\n",
       " [array([4, 3], dtype=int8), array([1, 3], dtype=int8)],\n",
       " [array([4, 3], dtype=int8), array([5, 3], dtype=int8)],\n",
       " [array([4, 3], dtype=int8), array([6, 3], dtype=int8)],\n",
       " [array([4, 3], dtype=int8), array([7, 3], dtype=int8)],\n",
       " [array([4, 3], dtype=int8), array([4, 2], dtype=int8)],\n",
       " [array([4, 3], dtype=int8), array([4, 1], dtype=int8)],\n",
       " [array([4, 3], dtype=int8), array([4, 4], dtype=int8)],\n",
       " [array([4, 3], dtype=int8), array([3, 2], dtype=int8)],\n",
       " [array([4, 3], dtype=int8), array([2, 1], dtype=int8)],\n",
       " [array([4, 3], dtype=int8), array([1, 0], dtype=int8)],\n",
       " [array([4, 3], dtype=int8), array([3, 4], dtype=int8)],\n",
       " [array([4, 3], dtype=int8), array([2, 5], dtype=int8)],\n",
       " [array([4, 3], dtype=int8), array([1, 6], dtype=int8)],\n",
       " [array([4, 3], dtype=int8), array([5, 4], dtype=int8)],\n",
       " [array([6, 0], dtype=int8), array([5, 0], dtype=int8)],\n",
       " [array([6, 0], dtype=int8), array([4, 0], dtype=int8)],\n",
       " [array([6, 1], dtype=int8), array([5, 1], dtype=int8)],\n",
       " [array([6, 2], dtype=int8), array([4, 2], dtype=int8)],\n",
       " [array([6, 5], dtype=int8), array([5, 5], dtype=int8)],\n",
       " [array([6, 5], dtype=int8), array([4, 5], dtype=int8)],\n",
       " [array([6, 6], dtype=int8), array([5, 6], dtype=int8)],\n",
       " [array([6, 6], dtype=int8), array([4, 6], dtype=int8)],\n",
       " [array([6, 7], dtype=int8), array([5, 7], dtype=int8)],\n",
       " [array([6, 7], dtype=int8), array([4, 7], dtype=int8)],\n",
       " [array([7, 0], dtype=int8), array([7, 1], dtype=int8)],\n",
       " [array([7, 2], dtype=int8), array([6, 3], dtype=int8)],\n",
       " [array([7, 2], dtype=int8), array([5, 4], dtype=int8)],\n",
       " [array([7, 2], dtype=int8), array([4, 5], dtype=int8)],\n",
       " [array([7, 2], dtype=int8), array([3, 6], dtype=int8)],\n",
       " [array([7, 2], dtype=int8), array([2, 7], dtype=int8)],\n",
       " [array([7, 4], dtype=int8), array([6, 4], dtype=int8)],\n",
       " [array([7, 4], dtype=int8), array([7, 3], dtype=int8)],\n",
       " [array([7, 5], dtype=int8), array([6, 4], dtype=int8)],\n",
       " [array([7, 5], dtype=int8), array([5, 3], dtype=int8)],\n",
       " [array([7, 5], dtype=int8), array([4, 2], dtype=int8)],\n",
       " [array([7, 5], dtype=int8), array([3, 1], dtype=int8)],\n",
       " [array([7, 5], dtype=int8), array([2, 0], dtype=int8)],\n",
       " [array([7, 7], dtype=int8), array([7, 6], dtype=int8)]]"
      ]
     },
     "metadata": {},
     "output_type": "display_data"
    }
   ],
   "execution_count": 38
  }
 ],
 "metadata": {
  "kernelspec": {
   "display_name": "Python 3",
   "language": "python",
   "name": "python3"
  },
  "language_info": {
   "codemirror_mode": {
    "name": "ipython",
    "version": 2
   },
   "file_extension": ".py",
   "mimetype": "text/x-python",
   "name": "python",
   "nbconvert_exporter": "python",
   "pygments_lexer": "ipython2",
   "version": "2.7.6"
  }
 },
 "nbformat": 4,
 "nbformat_minor": 5
}
