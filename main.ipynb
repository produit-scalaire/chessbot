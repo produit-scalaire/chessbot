{
 "cells": [
  {
   "cell_type": "code",
   "id": "initial_id",
   "metadata": {
    "collapsed": true,
    "ExecuteTime": {
     "end_time": "2025-01-13T10:52:22.100845Z",
     "start_time": "2025-01-13T10:52:20.762222Z"
    }
   },
   "source": [
    "import sys\n",
    "import time\n",
    "import random\n",
    "\n",
    "import numpy as np\n",
    "import gym\n",
    "import gym_chess\n",
    "import pandas as pd\n",
    "import numpy as np\n",
    "import torch\n",
    "from torch import nn"
   ],
   "outputs": [],
   "execution_count": 1
  },
  {
   "metadata": {},
   "cell_type": "code",
   "outputs": [],
   "execution_count": null,
   "source": [
    "#le NN prend comme entrée l'état et en sortie un array de 64 * 64 + 4 elements qui correspond aux 64 * 64 + 4 coups possibles\n",
    "\n",
    "# Taille des entrées et sorties\n",
    "input_size = 8 * 8  # État de l'échiquier aplati\n",
    "output_size = 64 * 64 + 4  # 4100 coups possibles\n",
    "\n",
    "# Modèle du réseau\n",
    "model = nn.Sequential(\n",
    "    nn.Flatten(),                     # Aplatit l'entrée (8x8 -> 64)\n",
    "    nn.Linear(input_size, 256),       # Première couche cachée avec 256 neurones\n",
    "    nn.ReLU(),                        # Fonction d'activation ReLU\n",
    "    nn.Linear(256, 512),              # Deuxième couche cachée avec 512 neurones\n",
    "    nn.ReLU(),                        # Fonction d'activation ReLU\n",
    "    nn.Linear(512, 1024),             # Troisième couche cachée avec 1024 neurones\n",
    "    nn.ReLU(),                        # Fonction d'activation ReLU\n",
    "    nn.Linear(1024, 512),             # Quatrième couche cachée avec 512 neurones\n",
    "    nn.ReLU(),                        # Fonction d'activation ReLU\n",
    "    nn.Linear(512, 256),              # Cinquième couche cachée avec 256 neurones\n",
    "    nn.ReLU(),                        # Fonction d'activation ReLU\n",
    "    nn.Linear(256, output_size),      # Couche de sortie avec 4100 neurones\n",
    "    nn.Softmax(dim=-1)                # Fonction Softmax pour des probabilités sur les coups possibles\n",
    ")\n",
    "\n",
    "# Afficher le modèle\n",
    "print(model)"
   ],
   "id": "a84535dade55564d"
  },
  {
   "metadata": {},
   "cell_type": "code",
   "outputs": [],
   "execution_count": null,
   "source": [
    "loss_function = nn.MSELoss()\n",
    "optimizer = torch.optim.Adam(lr=0.001, params = model.parameters())"
   ],
   "id": "6a904e0491bb09d9"
  },
  {
   "metadata": {
    "ExecuteTime": {
     "end_time": "2025-01-12T22:27:23.097385Z",
     "start_time": "2025-01-12T22:27:22.979247Z"
    }
   },
   "cell_type": "code",
   "source": "df = pd.read_csv(\"games.csv\")",
   "id": "856b4b25f1c40d85",
   "outputs": [],
   "execution_count": 3
  },
  {
   "metadata": {
    "ExecuteTime": {
     "end_time": "2025-01-12T22:27:51.490893Z",
     "start_time": "2025-01-12T22:27:51.473546Z"
    }
   },
   "cell_type": "code",
   "source": "display(df.iloc[0][\"moves\"])",
   "id": "f03bc5bd49c3b1e6",
   "outputs": [
    {
     "data": {
      "text/plain": [
       "'d4 d5 c4 c6 cxd5 e6 dxe6 fxe6 Nf3 Bb4+ Nc3 Ba5 Bf4'"
      ]
     },
     "metadata": {},
     "output_type": "display_data"
    }
   ],
   "execution_count": 5
  },
  {
   "metadata": {
    "ExecuteTime": {
     "end_time": "2025-01-12T14:35:50.391345Z",
     "start_time": "2025-01-12T14:35:50.361502Z"
    }
   },
   "cell_type": "code",
   "source": [
    "\n",
    "env = gym.make(\"ChessVsSelf-v1\", log=False)\n",
    "\n",
    "#\n",
    "# Play against self\n",
    "#\n",
    "num_episodes = 2\n",
    "num_steps = 100\n",
    "\n",
    "total_steps = 0\n",
    "collected_rewards = []\n",
    "start = time.time()"
   ],
   "id": "e1a77ebf69d0c8b1",
   "outputs": [
    {
     "name": "stdout",
     "output_type": "stream",
     "text": [
      "[[-3 -5 -4 -2 -1 -4 -5 -3]\n",
      " [-6 -6 -6 -6 -6 -6 -6 -6]\n",
      " [ 0  0  0  0  0  0  0  0]\n",
      " [ 0  0  0  0  0  0  0  0]\n",
      " [ 0  0  0  0  0  0  0  0]\n",
      " [ 0  0  0  0  0  0  0  0]\n",
      " [ 6  6  6  6  6  6  6  6]\n",
      " [ 3  5  4  2  1  4  5  3]]\n"
     ]
    }
   ],
   "execution_count": 76
  },
  {
   "metadata": {},
   "cell_type": "code",
   "outputs": [],
   "execution_count": null,
   "source": [
    "def list_move_to_string(moves:list):\n",
    "  \n",
    "  for idx, move in enumerate(moves):\n",
    "                  \n",
    "    moves[idx] = env.move_to_string(move)\n",
    "  \n",
    "  return moves\n",
    "      "
   ],
   "id": "856cea850fe1947f"
  },
  {
   "metadata": {
    "ExecuteTime": {
     "end_time": "2025-01-12T14:35:50.398118Z",
     "start_time": "2025-01-12T14:35:50.392563Z"
    }
   },
   "cell_type": "code",
   "source": [
    "\n",
    "\n",
    "for i in range(num_episodes):\n",
    "    initial_state = env.reset()\n",
    "    print(\"\\n\", \"=\" * 10, \"NEW GAME\", \"=\" * 10)\n",
    "    env.render()\n",
    "    total_rewards = {\"WHITE\": 0, \"BLACK\": 0}\n",
    "    for game in df:\n",
    "        #On récupère les coups\n",
    "        chess_moves = game[\"moves\"]\n",
    "        \n",
    "        #on transforme le str en une liste de coups\n",
    "        moves_list = chess_moves.split()\n",
    "        i = 0\n",
    "        #on iter sur les coups sous pgn notation\n",
    "        for move_pgn in moves_list:\n",
    "            #on récupère l'état\n",
    "            state = env.state\n",
    "            \n",
    "            #On réalise la prédiction\n",
    "            output_vector = model(state)\n",
    "            \n",
    "            #on transforme output_vector en action\n",
    "            output_action = torch.argmax(output_vector).item()\n",
    "            \n",
    "            #On récupère la liste des coups possibles\n",
    "            possible_moves = env.possible_moves\n",
    "            \n",
    "            #On transforme les coups en pgn\n",
    "            possible_moves_pgn = list_move_to_string(possible_moves)\n",
    "            \n",
    "            #On récupère l'indice de move_pgn dans possible_moves_pgn\n",
    "            index = possible_moves_pgn.index(move_pgn)\n",
    "            \n",
    "            #On récupère le bon coup\n",
    "            m = possible_moves[index]\n",
    "            \n",
    "            #On le transforme en action\n",
    "            a = env.move_to_action(m)\n",
    "            \n",
    "            action_one_hot = torch.zeros(64 * 64 + 4)  # Crée un tenseur rempli de 0\n",
    "            action_one_hot[a] = 1  \n",
    "            \n",
    "            #On calcul la loss\n",
    "            loss = loss_function(output_vector, action_one_hot)\n",
    "            \n",
    "            #On met à jour le réseau\n",
    "            optimizer.zero_grad() # Mettre les gradients à 0\n",
    "            loss.backward()\n",
    "            optimizer.step()\n",
    "            \n",
    "            # perform action\n",
    "            state, reward, done, _ = env.step(a)\n",
    "            i += 1\n",
    "            \n",
    "            if done or i > num_steps:\n",
    "                break\n",
    "                \n",
    "                \n",
    "                \n",
    "                \n",
    "                \n",
    "                \n",
    "            "
   ],
   "id": "dc8386e2dfc2016f",
   "outputs": [
    {
     "name": "stdout",
     "output_type": "stream",
     "text": [
      "[[array([6, 0], dtype=int8), array([5, 0], dtype=int8)], [array([6, 0], dtype=int8), array([4, 0], dtype=int8)], [array([6, 1], dtype=int8), array([5, 1], dtype=int8)], [array([6, 1], dtype=int8), array([4, 1], dtype=int8)], [array([6, 2], dtype=int8), array([5, 2], dtype=int8)], [array([6, 2], dtype=int8), array([4, 2], dtype=int8)], [array([6, 3], dtype=int8), array([5, 3], dtype=int8)], [array([6, 3], dtype=int8), array([4, 3], dtype=int8)], [array([6, 4], dtype=int8), array([5, 4], dtype=int8)], [array([6, 4], dtype=int8), array([4, 4], dtype=int8)], [array([6, 5], dtype=int8), array([5, 5], dtype=int8)], [array([6, 5], dtype=int8), array([4, 5], dtype=int8)], [array([6, 6], dtype=int8), array([5, 6], dtype=int8)], [array([6, 6], dtype=int8), array([4, 6], dtype=int8)], [array([6, 7], dtype=int8), array([5, 7], dtype=int8)], [array([6, 7], dtype=int8), array([4, 7], dtype=int8)], [array([7, 1], dtype=int8), array([5, 0], dtype=int8)], [array([7, 1], dtype=int8), array([5, 2], dtype=int8)], [array([7, 6], dtype=int8), array([5, 5], dtype=int8)], [array([7, 6], dtype=int8), array([5, 7], dtype=int8)]]\n",
      "3242\n"
     ]
    }
   ],
   "execution_count": 77
  },
  {
   "metadata": {
    "ExecuteTime": {
     "end_time": "2025-01-12T14:35:50.401080Z",
     "start_time": "2025-01-12T14:35:50.398726Z"
    }
   },
   "cell_type": "code",
   "source": [
    "total_steps += 1\n",
    "            # white moves\n",
    "            moves = env.possible_moves\n",
    "            m = random.choice(moves)\n",
    "            a = env.move_to_action(m)\n",
    "            # perform action\n",
    "            state, reward, done, _ = env.step(a)\n",
    "            total_rewards[\"WHITE\"] += reward\n",
    "            if done:\n",
    "                break\n",
    "    \n",
    "            # black moves\n",
    "            moves = env.possible_moves\n",
    "            m = random.choice(moves)\n",
    "            a = env.move_to_action(m)\n",
    "            # perform action\n",
    "            state, reward, done, _ = env.step(a)\n",
    "            total_rewards[\"BLACK\"] += reward\n",
    "            if done:\n",
    "                break\n",
    "\n",
    "    print(\">\" * 5, \"GAME\", i, \"REWARD:\", total_rewards)\n",
    "    collected_rewards.append(total_rewards)"
   ],
   "id": "6dd4a9806654c370",
   "outputs": [],
   "execution_count": 78
  },
  {
   "metadata": {
    "ExecuteTime": {
     "end_time": "2025-01-12T14:35:50.451592Z",
     "start_time": "2025-01-12T14:35:50.403474Z"
    }
   },
   "cell_type": "code",
   "source": "",
   "id": "b1cea754abccc5b5",
   "outputs": [
    {
     "name": "stdout",
     "output_type": "stream",
     "text": [
      "Action: 3364 is being passed to the environment.\n",
      "           >>>>>>>>>> WHITE\n",
      "    -------------------------\n",
      " 8 |  ♖  ♘  ♗  ♕  ♔  ♗  ♘  ♖ |\n",
      " 7 |  ♙  ♙  ♙  ♙  ♙  ♙  ♙  ♙ |\n",
      " 6 |  .  .  .  .  .  .  .  . |\n",
      " 5 |  .  .  .  .  .  .  .  . |\n",
      " 4 |  .  .  .  . \u001B[42m\u001B[30m . \u001B[0m\u001B[0m .  .  . |\n",
      " 3 |  .  .  .  .  .  .  .  . |\n",
      " 2 |  ♟  ♟  ♟  ♟ \u001B[47m\u001B[30m ♟ \u001B[0m\u001B[0m ♟  ♟  ♟ |\n",
      " 1 |  ♜  ♞  ♝  ♛  ♚  ♝  ♞  ♜ |\n",
      "    -------------------------\n",
      "      a  b  c  d  e  f  g  h \n",
      "           >>>>>>>>>> BLACK\n",
      "    -------------------------\n",
      " 8 |  ♖  ♘  ♗  ♕  ♔  ♗  ♘  ♖ |\n",
      " 7 |  ♙  ♙  ♙ \u001B[47m\u001B[30m ♙ \u001B[0m\u001B[0m ♙  ♙  ♙  ♙ |\n",
      " 6 |  .  .  .  .  .  .  .  . |\n",
      " 5 |  .  .  . \u001B[42m\u001B[30m . \u001B[0m\u001B[0m .  .  .  . |\n",
      " 4 |  .  .  .  .  ♟  .  .  . |\n",
      " 3 |  .  .  .  .  .  .  .  . |\n",
      " 2 |  ♟  ♟  ♟  ♟  .  ♟  ♟  ♟ |\n",
      " 1 |  ♜  ♞  ♝  ♛  ♚  ♝  ♞  ♜ |\n",
      "    -------------------------\n",
      "      a  b  c  d  e  f  g  h \n",
      "New State: [[-3 -5 -4 -2 -1 -4 -5 -3]\n",
      " [-6 -6 -6  0 -6 -6 -6 -6]\n",
      " [ 0  0  0  0  0  0  0  0]\n",
      " [ 0  0  0 -6  0  0  0  0]\n",
      " [ 0  0  0  0  6  0  0  0]\n",
      " [ 0  0  0  0  0  0  0  0]\n",
      " [ 6  6  6  6  0  6  6  6]\n",
      " [ 3  5  4  2  1  4  5  3]]\n",
      "Reward: -10\n",
      "Done: False\n",
      "Info: {'state': array([[-3, -5, -4, -2, -1, -4, -5, -3],\n",
      "       [-6, -6, -6,  0, -6, -6, -6, -6],\n",
      "       [ 0,  0,  0,  0,  0,  0,  0,  0],\n",
      "       [ 0,  0,  0, -6,  0,  0,  0,  0],\n",
      "       [ 0,  0,  0,  0,  6,  0,  0,  0],\n",
      "       [ 0,  0,  0,  0,  0,  0,  0,  0],\n",
      "       [ 6,  6,  6,  6,  0,  6,  6,  6],\n",
      "       [ 3,  5,  4,  2,  1,  4,  5,  3]], dtype=int8), 'move_count': 1}\n"
     ]
    }
   ],
   "execution_count": 79
  },
  {
   "metadata": {
    "ExecuteTime": {
     "end_time": "2025-01-12T14:35:50.456052Z",
     "start_time": "2025-01-12T14:35:50.454196Z"
    }
   },
   "cell_type": "code",
   "source": "",
   "id": "4e3fdb77df30d481",
   "outputs": [],
   "execution_count": 79
  }
 ],
 "metadata": {
  "kernelspec": {
   "display_name": "Python 3",
   "language": "python",
   "name": "python3"
  },
  "language_info": {
   "codemirror_mode": {
    "name": "ipython",
    "version": 2
   },
   "file_extension": ".py",
   "mimetype": "text/x-python",
   "name": "python",
   "nbconvert_exporter": "python",
   "pygments_lexer": "ipython2",
   "version": "2.7.6"
  }
 },
 "nbformat": 4,
 "nbformat_minor": 5
}
